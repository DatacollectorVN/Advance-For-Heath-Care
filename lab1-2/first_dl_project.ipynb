{
  "nbformat": 4,
  "nbformat_minor": 0,
  "metadata": {
    "colab": {
      "provenance": []
    },
    "kernelspec": {
      "name": "python3",
      "display_name": "Python 3"
    },
    "language_info": {
      "name": "python"
    }
  },
  "cells": [
    {
      "cell_type": "code",
      "execution_count": 42,
      "metadata": {
        "id": "FejXTeLBO3sm"
      },
      "outputs": [],
      "source": [
        "import numpy as np\n",
        "import pandas as pd\n",
        "from sklearn.model_selection import train_test_split\n",
        "import tensorflow as tf\n",
        "import os\n",
        "import matplotlib.pyplot as plt\n",
        "import seaborn as sns\n",
        "from tensorflow.keras import Model\n",
        "from tensorflow.keras.layers import Input, Dense, Dropout"
      ]
    },
    {
      "cell_type": "markdown",
      "source": [
        "# 1. Start to build DL from scratch"
      ],
      "metadata": {
        "id": "2JehlZ7dP9RV"
      }
    },
    {
      "cell_type": "markdown",
      "source": [
        "Follow by image below:"
      ],
      "metadata": {
        "id": "QFfCVROfQZH4"
      }
    },
    {
      "cell_type": "markdown",
      "source": [
        "![](data:image/jpeg;base64,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)"
      ],
      "metadata": {
        "id": "utrHJ2B_PqCc"
      }
    },
    {
      "cell_type": "code",
      "source": [
        "def create_model(input_shape: tuple, output_shape: int) -> Model:\n",
        "  input = Input(shape = input_shape)\n",
        "  x = Dense(units = 4, activation = \"relu\")(input)\n",
        "  x = Dense(units = 4, activation = \"relu\")(x)\n",
        "  output = Dense(units = output_shape, activation = \"sigmoid\")(x)\n",
        "  return Model(input, output)"
      ],
      "metadata": {
        "id": "l6YXTJAxPFVe"
      },
      "execution_count": 27,
      "outputs": []
    },
    {
      "cell_type": "code",
      "source": [
        "model = create_model((3, ), 1)"
      ],
      "metadata": {
        "id": "hWVBjt_9Qxyf"
      },
      "execution_count": 4,
      "outputs": []
    },
    {
      "cell_type": "code",
      "source": [
        "model.summary()"
      ],
      "metadata": {
        "colab": {
          "base_uri": "https://localhost:8080/"
        },
        "id": "9EkGxV26Q2mK",
        "outputId": "592432f2-f6cc-447b-d19d-abb04629aa7e"
      },
      "execution_count": 5,
      "outputs": [
        {
          "output_type": "stream",
          "name": "stdout",
          "text": [
            "Model: \"model\"\n",
            "_________________________________________________________________\n",
            " Layer (type)                Output Shape              Param #   \n",
            "=================================================================\n",
            " input_1 (InputLayer)        [(None, 3)]               0         \n",
            "                                                                 \n",
            " dense (Dense)               (None, 4)                 16        \n",
            "                                                                 \n",
            " dense_1 (Dense)             (None, 4)                 20        \n",
            "                                                                 \n",
            " dense_2 (Dense)             (None, 1)                 5         \n",
            "                                                                 \n",
            "=================================================================\n",
            "Total params: 41 (164.00 Byte)\n",
            "Trainable params: 41 (164.00 Byte)\n",
            "Non-trainable params: 0 (0.00 Byte)\n",
            "_________________________________________________________________\n"
          ]
        }
      ]
    },
    {
      "cell_type": "markdown",
      "source": [
        "#2. DL for structure data"
      ],
      "metadata": {
        "id": "idbBW4irR7A8"
      }
    },
    {
      "cell_type": "markdown",
      "source": [
        "## 2.1. Download data"
      ],
      "metadata": {
        "id": "q4dBpCv-Scfi"
      }
    },
    {
      "cell_type": "code",
      "source": [
        "!git clone https://github.com/DatacollectorVN/Advance-For-Heath-Care.git"
      ],
      "metadata": {
        "colab": {
          "base_uri": "https://localhost:8080/"
        },
        "id": "NDmTEEPTQ3-r",
        "outputId": "1ccfd0d9-dcab-47bf-f443-9563c5fc88d2"
      },
      "execution_count": 6,
      "outputs": [
        {
          "output_type": "stream",
          "name": "stdout",
          "text": [
            "Cloning into 'Advance-For-Heath-Care'...\n",
            "remote: Enumerating objects: 21, done.\u001b[K\n",
            "remote: Counting objects: 100% (21/21), done.\u001b[K\n",
            "remote: Compressing objects: 100% (17/17), done.\u001b[K\n",
            "remote: Total 21 (delta 5), reused 16 (delta 3), pack-reused 0\u001b[K\n",
            "Receiving objects: 100% (21/21), 34.38 KiB | 1.32 MiB/s, done.\n",
            "Resolving deltas: 100% (5/5), done.\n"
          ]
        }
      ]
    },
    {
      "cell_type": "code",
      "source": [
        "!ls"
      ],
      "metadata": {
        "colab": {
          "base_uri": "https://localhost:8080/"
        },
        "id": "09PYiJHnSKtI",
        "outputId": "c987287d-7c07-4e0a-c1ae-f85281f9b0c3"
      },
      "execution_count": 7,
      "outputs": [
        {
          "output_type": "stream",
          "name": "stdout",
          "text": [
            "Advance-For-Heath-Care\tsample_data\n"
          ]
        }
      ]
    },
    {
      "cell_type": "code",
      "source": [
        "!ls Advance-For-Heath-Care/lab1-2"
      ],
      "metadata": {
        "colab": {
          "base_uri": "https://localhost:8080/"
        },
        "id": "VRSd1_LoSSJP",
        "outputId": "675822cb-2b20-48fa-b6df-7d4ee2e67be8"
      },
      "execution_count": 11,
      "outputs": [
        {
          "output_type": "stream",
          "name": "stdout",
          "text": [
            "download_data.py  first_ml_project.ipynb  README.md  requirements.txt\n"
          ]
        }
      ]
    },
    {
      "cell_type": "code",
      "source": [
        "%cd 'Advance-For-Heath-Care/lab1-2'"
      ],
      "metadata": {
        "colab": {
          "base_uri": "https://localhost:8080/"
        },
        "id": "ndDMNFOwSNsr",
        "outputId": "c63e3400-fd36-49d0-8736-ad4d21d779e0"
      },
      "execution_count": 12,
      "outputs": [
        {
          "output_type": "stream",
          "name": "stdout",
          "text": [
            "/content/Advance-For-Heath-Care/lab1-2\n"
          ]
        }
      ]
    },
    {
      "cell_type": "code",
      "source": [
        "!python download_data.py --data_type diabetes"
      ],
      "metadata": {
        "colab": {
          "base_uri": "https://localhost:8080/"
        },
        "id": "pHDq0Z6mSW8I",
        "outputId": "ee0e7411-6734-4c76-bad5-142b8928fc3b"
      },
      "execution_count": 14,
      "outputs": [
        {
          "output_type": "stream",
          "name": "stdout",
          "text": [
            "Start to download, this process take a few minutes\n",
            "Downloaded dataset - https://github.com/DatacollectorVN/Frameworks-Machine-Learning/releases/download/7/diabetes.csv to- './dataset/diabetes.csv'\n"
          ]
        }
      ]
    },
    {
      "cell_type": "markdown",
      "source": [
        "## 2.2. Load data"
      ],
      "metadata": {
        "id": "EFfTeGpgSpdO"
      }
    },
    {
      "cell_type": "code",
      "source": [
        "ANNOTATIONS_CSV = os.path.join(\"dataset\", \"diabetes.csv\")"
      ],
      "metadata": {
        "id": "HJUIRwL9SaNU"
      },
      "execution_count": 16,
      "outputs": []
    },
    {
      "cell_type": "code",
      "source": [
        "df = pd.read_csv(ANNOTATIONS_CSV)"
      ],
      "metadata": {
        "id": "rNCbDhGBSmbg"
      },
      "execution_count": 17,
      "outputs": []
    },
    {
      "cell_type": "code",
      "source": [
        "df.head()"
      ],
      "metadata": {
        "colab": {
          "base_uri": "https://localhost:8080/",
          "height": 206
        },
        "id": "ysK6BhJiSn9C",
        "outputId": "5274e3d5-2f19-44f5-94ba-95e4d4f01146"
      },
      "execution_count": 18,
      "outputs": [
        {
          "output_type": "execute_result",
          "data": {
            "text/plain": [
              "   Pregnancies  Glucose  BloodPressure  SkinThickness  Insulin   BMI  \\\n",
              "0            6      148             72             35        0  33.6   \n",
              "1            1       85             66             29        0  26.6   \n",
              "2            8      183             64              0        0  23.3   \n",
              "3            1       89             66             23       94  28.1   \n",
              "4            0      137             40             35      168  43.1   \n",
              "\n",
              "   DiabetesPedigreeFunction  Age  Outcome  \n",
              "0                     0.627   50        1  \n",
              "1                     0.351   31        0  \n",
              "2                     0.672   32        1  \n",
              "3                     0.167   21        0  \n",
              "4                     2.288   33        1  "
            ],
            "text/html": [
              "\n",
              "  <div id=\"df-4012d949-a172-4a05-8f28-43c669c02c06\" class=\"colab-df-container\">\n",
              "    <div>\n",
              "<style scoped>\n",
              "    .dataframe tbody tr th:only-of-type {\n",
              "        vertical-align: middle;\n",
              "    }\n",
              "\n",
              "    .dataframe tbody tr th {\n",
              "        vertical-align: top;\n",
              "    }\n",
              "\n",
              "    .dataframe thead th {\n",
              "        text-align: right;\n",
              "    }\n",
              "</style>\n",
              "<table border=\"1\" class=\"dataframe\">\n",
              "  <thead>\n",
              "    <tr style=\"text-align: right;\">\n",
              "      <th></th>\n",
              "      <th>Pregnancies</th>\n",
              "      <th>Glucose</th>\n",
              "      <th>BloodPressure</th>\n",
              "      <th>SkinThickness</th>\n",
              "      <th>Insulin</th>\n",
              "      <th>BMI</th>\n",
              "      <th>DiabetesPedigreeFunction</th>\n",
              "      <th>Age</th>\n",
              "      <th>Outcome</th>\n",
              "    </tr>\n",
              "  </thead>\n",
              "  <tbody>\n",
              "    <tr>\n",
              "      <th>0</th>\n",
              "      <td>6</td>\n",
              "      <td>148</td>\n",
              "      <td>72</td>\n",
              "      <td>35</td>\n",
              "      <td>0</td>\n",
              "      <td>33.6</td>\n",
              "      <td>0.627</td>\n",
              "      <td>50</td>\n",
              "      <td>1</td>\n",
              "    </tr>\n",
              "    <tr>\n",
              "      <th>1</th>\n",
              "      <td>1</td>\n",
              "      <td>85</td>\n",
              "      <td>66</td>\n",
              "      <td>29</td>\n",
              "      <td>0</td>\n",
              "      <td>26.6</td>\n",
              "      <td>0.351</td>\n",
              "      <td>31</td>\n",
              "      <td>0</td>\n",
              "    </tr>\n",
              "    <tr>\n",
              "      <th>2</th>\n",
              "      <td>8</td>\n",
              "      <td>183</td>\n",
              "      <td>64</td>\n",
              "      <td>0</td>\n",
              "      <td>0</td>\n",
              "      <td>23.3</td>\n",
              "      <td>0.672</td>\n",
              "      <td>32</td>\n",
              "      <td>1</td>\n",
              "    </tr>\n",
              "    <tr>\n",
              "      <th>3</th>\n",
              "      <td>1</td>\n",
              "      <td>89</td>\n",
              "      <td>66</td>\n",
              "      <td>23</td>\n",
              "      <td>94</td>\n",
              "      <td>28.1</td>\n",
              "      <td>0.167</td>\n",
              "      <td>21</td>\n",
              "      <td>0</td>\n",
              "    </tr>\n",
              "    <tr>\n",
              "      <th>4</th>\n",
              "      <td>0</td>\n",
              "      <td>137</td>\n",
              "      <td>40</td>\n",
              "      <td>35</td>\n",
              "      <td>168</td>\n",
              "      <td>43.1</td>\n",
              "      <td>2.288</td>\n",
              "      <td>33</td>\n",
              "      <td>1</td>\n",
              "    </tr>\n",
              "  </tbody>\n",
              "</table>\n",
              "</div>\n",
              "    <div class=\"colab-df-buttons\">\n",
              "\n",
              "  <div class=\"colab-df-container\">\n",
              "    <button class=\"colab-df-convert\" onclick=\"convertToInteractive('df-4012d949-a172-4a05-8f28-43c669c02c06')\"\n",
              "            title=\"Convert this dataframe to an interactive table.\"\n",
              "            style=\"display:none;\">\n",
              "\n",
              "  <svg xmlns=\"http://www.w3.org/2000/svg\" height=\"24px\" viewBox=\"0 -960 960 960\">\n",
              "    <path d=\"M120-120v-720h720v720H120Zm60-500h600v-160H180v160Zm220 220h160v-160H400v160Zm0 220h160v-160H400v160ZM180-400h160v-160H180v160Zm440 0h160v-160H620v160ZM180-180h160v-160H180v160Zm440 0h160v-160H620v160Z\"/>\n",
              "  </svg>\n",
              "    </button>\n",
              "\n",
              "  <style>\n",
              "    .colab-df-container {\n",
              "      display:flex;\n",
              "      gap: 12px;\n",
              "    }\n",
              "\n",
              "    .colab-df-convert {\n",
              "      background-color: #E8F0FE;\n",
              "      border: none;\n",
              "      border-radius: 50%;\n",
              "      cursor: pointer;\n",
              "      display: none;\n",
              "      fill: #1967D2;\n",
              "      height: 32px;\n",
              "      padding: 0 0 0 0;\n",
              "      width: 32px;\n",
              "    }\n",
              "\n",
              "    .colab-df-convert:hover {\n",
              "      background-color: #E2EBFA;\n",
              "      box-shadow: 0px 1px 2px rgba(60, 64, 67, 0.3), 0px 1px 3px 1px rgba(60, 64, 67, 0.15);\n",
              "      fill: #174EA6;\n",
              "    }\n",
              "\n",
              "    .colab-df-buttons div {\n",
              "      margin-bottom: 4px;\n",
              "    }\n",
              "\n",
              "    [theme=dark] .colab-df-convert {\n",
              "      background-color: #3B4455;\n",
              "      fill: #D2E3FC;\n",
              "    }\n",
              "\n",
              "    [theme=dark] .colab-df-convert:hover {\n",
              "      background-color: #434B5C;\n",
              "      box-shadow: 0px 1px 3px 1px rgba(0, 0, 0, 0.15);\n",
              "      filter: drop-shadow(0px 1px 2px rgba(0, 0, 0, 0.3));\n",
              "      fill: #FFFFFF;\n",
              "    }\n",
              "  </style>\n",
              "\n",
              "    <script>\n",
              "      const buttonEl =\n",
              "        document.querySelector('#df-4012d949-a172-4a05-8f28-43c669c02c06 button.colab-df-convert');\n",
              "      buttonEl.style.display =\n",
              "        google.colab.kernel.accessAllowed ? 'block' : 'none';\n",
              "\n",
              "      async function convertToInteractive(key) {\n",
              "        const element = document.querySelector('#df-4012d949-a172-4a05-8f28-43c669c02c06');\n",
              "        const dataTable =\n",
              "          await google.colab.kernel.invokeFunction('convertToInteractive',\n",
              "                                                    [key], {});\n",
              "        if (!dataTable) return;\n",
              "\n",
              "        const docLinkHtml = 'Like what you see? Visit the ' +\n",
              "          '<a target=\"_blank\" href=https://colab.research.google.com/notebooks/data_table.ipynb>data table notebook</a>'\n",
              "          + ' to learn more about interactive tables.';\n",
              "        element.innerHTML = '';\n",
              "        dataTable['output_type'] = 'display_data';\n",
              "        await google.colab.output.renderOutput(dataTable, element);\n",
              "        const docLink = document.createElement('div');\n",
              "        docLink.innerHTML = docLinkHtml;\n",
              "        element.appendChild(docLink);\n",
              "      }\n",
              "    </script>\n",
              "  </div>\n",
              "\n",
              "\n",
              "<div id=\"df-5ba29889-ad88-47ba-baaa-66d29073cf77\">\n",
              "  <button class=\"colab-df-quickchart\" onclick=\"quickchart('df-5ba29889-ad88-47ba-baaa-66d29073cf77')\"\n",
              "            title=\"Suggest charts.\"\n",
              "            style=\"display:none;\">\n",
              "\n",
              "<svg xmlns=\"http://www.w3.org/2000/svg\" height=\"24px\"viewBox=\"0 0 24 24\"\n",
              "     width=\"24px\">\n",
              "    <g>\n",
              "        <path d=\"M19 3H5c-1.1 0-2 .9-2 2v14c0 1.1.9 2 2 2h14c1.1 0 2-.9 2-2V5c0-1.1-.9-2-2-2zM9 17H7v-7h2v7zm4 0h-2V7h2v10zm4 0h-2v-4h2v4z\"/>\n",
              "    </g>\n",
              "</svg>\n",
              "  </button>\n",
              "\n",
              "<style>\n",
              "  .colab-df-quickchart {\n",
              "      --bg-color: #E8F0FE;\n",
              "      --fill-color: #1967D2;\n",
              "      --hover-bg-color: #E2EBFA;\n",
              "      --hover-fill-color: #174EA6;\n",
              "      --disabled-fill-color: #AAA;\n",
              "      --disabled-bg-color: #DDD;\n",
              "  }\n",
              "\n",
              "  [theme=dark] .colab-df-quickchart {\n",
              "      --bg-color: #3B4455;\n",
              "      --fill-color: #D2E3FC;\n",
              "      --hover-bg-color: #434B5C;\n",
              "      --hover-fill-color: #FFFFFF;\n",
              "      --disabled-bg-color: #3B4455;\n",
              "      --disabled-fill-color: #666;\n",
              "  }\n",
              "\n",
              "  .colab-df-quickchart {\n",
              "    background-color: var(--bg-color);\n",
              "    border: none;\n",
              "    border-radius: 50%;\n",
              "    cursor: pointer;\n",
              "    display: none;\n",
              "    fill: var(--fill-color);\n",
              "    height: 32px;\n",
              "    padding: 0;\n",
              "    width: 32px;\n",
              "  }\n",
              "\n",
              "  .colab-df-quickchart:hover {\n",
              "    background-color: var(--hover-bg-color);\n",
              "    box-shadow: 0 1px 2px rgba(60, 64, 67, 0.3), 0 1px 3px 1px rgba(60, 64, 67, 0.15);\n",
              "    fill: var(--button-hover-fill-color);\n",
              "  }\n",
              "\n",
              "  .colab-df-quickchart-complete:disabled,\n",
              "  .colab-df-quickchart-complete:disabled:hover {\n",
              "    background-color: var(--disabled-bg-color);\n",
              "    fill: var(--disabled-fill-color);\n",
              "    box-shadow: none;\n",
              "  }\n",
              "\n",
              "  .colab-df-spinner {\n",
              "    border: 2px solid var(--fill-color);\n",
              "    border-color: transparent;\n",
              "    border-bottom-color: var(--fill-color);\n",
              "    animation:\n",
              "      spin 1s steps(1) infinite;\n",
              "  }\n",
              "\n",
              "  @keyframes spin {\n",
              "    0% {\n",
              "      border-color: transparent;\n",
              "      border-bottom-color: var(--fill-color);\n",
              "      border-left-color: var(--fill-color);\n",
              "    }\n",
              "    20% {\n",
              "      border-color: transparent;\n",
              "      border-left-color: var(--fill-color);\n",
              "      border-top-color: var(--fill-color);\n",
              "    }\n",
              "    30% {\n",
              "      border-color: transparent;\n",
              "      border-left-color: var(--fill-color);\n",
              "      border-top-color: var(--fill-color);\n",
              "      border-right-color: var(--fill-color);\n",
              "    }\n",
              "    40% {\n",
              "      border-color: transparent;\n",
              "      border-right-color: var(--fill-color);\n",
              "      border-top-color: var(--fill-color);\n",
              "    }\n",
              "    60% {\n",
              "      border-color: transparent;\n",
              "      border-right-color: var(--fill-color);\n",
              "    }\n",
              "    80% {\n",
              "      border-color: transparent;\n",
              "      border-right-color: var(--fill-color);\n",
              "      border-bottom-color: var(--fill-color);\n",
              "    }\n",
              "    90% {\n",
              "      border-color: transparent;\n",
              "      border-bottom-color: var(--fill-color);\n",
              "    }\n",
              "  }\n",
              "</style>\n",
              "\n",
              "  <script>\n",
              "    async function quickchart(key) {\n",
              "      const quickchartButtonEl =\n",
              "        document.querySelector('#' + key + ' button');\n",
              "      quickchartButtonEl.disabled = true;  // To prevent multiple clicks.\n",
              "      quickchartButtonEl.classList.add('colab-df-spinner');\n",
              "      try {\n",
              "        const charts = await google.colab.kernel.invokeFunction(\n",
              "            'suggestCharts', [key], {});\n",
              "      } catch (error) {\n",
              "        console.error('Error during call to suggestCharts:', error);\n",
              "      }\n",
              "      quickchartButtonEl.classList.remove('colab-df-spinner');\n",
              "      quickchartButtonEl.classList.add('colab-df-quickchart-complete');\n",
              "    }\n",
              "    (() => {\n",
              "      let quickchartButtonEl =\n",
              "        document.querySelector('#df-5ba29889-ad88-47ba-baaa-66d29073cf77 button');\n",
              "      quickchartButtonEl.style.display =\n",
              "        google.colab.kernel.accessAllowed ? 'block' : 'none';\n",
              "    })();\n",
              "  </script>\n",
              "</div>\n",
              "    </div>\n",
              "  </div>\n"
            ]
          },
          "metadata": {},
          "execution_count": 18
        }
      ]
    },
    {
      "cell_type": "markdown",
      "source": [
        "## 2.3. Train / Test Split"
      ],
      "metadata": {
        "id": "JChvJTsxS6us"
      }
    },
    {
      "cell_type": "code",
      "source": [
        "TARGET_COL = 'Outcome'"
      ],
      "metadata": {
        "id": "u9tRjkMDTBS4"
      },
      "execution_count": 19,
      "outputs": []
    },
    {
      "cell_type": "code",
      "source": [
        "X = df[df.columns.drop(TARGET_COL)].values\n",
        "y = df[[TARGET_COL]].values"
      ],
      "metadata": {
        "id": "nvI6AV54TCGt"
      },
      "execution_count": 20,
      "outputs": []
    },
    {
      "cell_type": "code",
      "source": [
        "VAL_RATIO = 0.2\n",
        "SEED = 42\n",
        "\n",
        "X_train, X_val, y_train, y_val = train_test_split(X, y, test_size = VAL_RATIO, random_state = SEED)"
      ],
      "metadata": {
        "id": "OZ214u2GSoqJ"
      },
      "execution_count": 21,
      "outputs": []
    },
    {
      "cell_type": "markdown",
      "source": [
        "## 2.4. Create Model"
      ],
      "metadata": {
        "id": "9tobjUPbTJN6"
      }
    },
    {
      "cell_type": "code",
      "source": [
        "def create_model(input_shape: tuple, output_shape: tuple) -> Model:\n",
        "  input = Input(shape = input_shape)\n",
        "  x = Dense(units = 64, activation = \"relu\")(input)\n",
        "  x = Dense(units = 128, activation = \"relu\")(x)\n",
        "  x = Dense(units = 64, activation = \"relu\")(x)\n",
        "  output = Dense(units = output_shape, activation = \"sigmoid\")(x) # Why use sigmoid\n",
        "  return Model(input, output)"
      ],
      "metadata": {
        "id": "qM44N9TyTDz4"
      },
      "execution_count": 23,
      "outputs": []
    },
    {
      "cell_type": "markdown",
      "source": [
        "### How to define input_shape"
      ],
      "metadata": {
        "id": "aFs8M6FDTnX8"
      }
    },
    {
      "cell_type": "code",
      "source": [
        "X_train.shape"
      ],
      "metadata": {
        "colab": {
          "base_uri": "https://localhost:8080/"
        },
        "id": "V39ClHzJTSkB",
        "outputId": "765b2576-e073-4bee-91e3-8c123868720b"
      },
      "execution_count": 25,
      "outputs": [
        {
          "output_type": "execute_result",
          "data": {
            "text/plain": [
              "(614, 8)"
            ]
          },
          "metadata": {},
          "execution_count": 25
        }
      ]
    },
    {
      "cell_type": "markdown",
      "source": [
        "read [here](https://www.tensorflow.org/api_docs/python/tf/keras/Input)"
      ],
      "metadata": {
        "id": "UeL09T1sTq8e"
      }
    },
    {
      "cell_type": "code",
      "source": [
        "input_shape = (8, )"
      ],
      "metadata": {
        "id": "Mmg9-GnNTuZH"
      },
      "execution_count": 26,
      "outputs": []
    },
    {
      "cell_type": "code",
      "source": [
        "output_shape = 1"
      ],
      "metadata": {
        "id": "WYQwX4rqT6He"
      },
      "execution_count": 28,
      "outputs": []
    },
    {
      "cell_type": "code",
      "source": [
        "model = create_model(input_shape, output_shape)"
      ],
      "metadata": {
        "id": "vvRqvP-tTMPI"
      },
      "execution_count": 37,
      "outputs": []
    },
    {
      "cell_type": "code",
      "source": [
        "model.compile(optimizer = 'adam', loss = 'binary_crossentropy',\n",
        "              metrics = ['accuracy']\n",
        ")"
      ],
      "metadata": {
        "id": "Lzf10uO3T_-K"
      },
      "execution_count": 38,
      "outputs": []
    },
    {
      "cell_type": "code",
      "source": [
        "model.summary()"
      ],
      "metadata": {
        "colab": {
          "base_uri": "https://localhost:8080/"
        },
        "id": "L5PSwl3XUGZn",
        "outputId": "7448dc63-e590-4fbc-d5e3-3325df0d341d"
      },
      "execution_count": 39,
      "outputs": [
        {
          "output_type": "stream",
          "name": "stdout",
          "text": [
            "Model: \"model_3\"\n",
            "_________________________________________________________________\n",
            " Layer (type)                Output Shape              Param #   \n",
            "=================================================================\n",
            " input_4 (InputLayer)        [(None, 8)]               0         \n",
            "                                                                 \n",
            " dense_9 (Dense)             (None, 4)                 36        \n",
            "                                                                 \n",
            " dense_10 (Dense)            (None, 4)                 20        \n",
            "                                                                 \n",
            " dense_11 (Dense)            (None, 1)                 5         \n",
            "                                                                 \n",
            "=================================================================\n",
            "Total params: 61 (244.00 Byte)\n",
            "Trainable params: 61 (244.00 Byte)\n",
            "Non-trainable params: 0 (0.00 Byte)\n",
            "_________________________________________________________________\n"
          ]
        }
      ]
    },
    {
      "cell_type": "code",
      "source": [
        "history = model.fit(X_train, y_train,\n",
        "                    epochs = 50,\n",
        "                    batch_size = 16,\n",
        "                    validation_data = (X_val, y_val)\n",
        ")"
      ],
      "metadata": {
        "colab": {
          "base_uri": "https://localhost:8080/"
        },
        "id": "isB30hCoUHjA",
        "outputId": "1b381670-457c-4413-be2f-7409ace1b16d"
      },
      "execution_count": 40,
      "outputs": [
        {
          "output_type": "stream",
          "name": "stdout",
          "text": [
            "Epoch 1/50\n",
            "39/39 [==============================] - 1s 5ms/step - loss: 11.9024 - accuracy: 0.5358 - val_loss: 10.2325 - val_accuracy: 0.4870\n",
            "Epoch 2/50\n",
            "39/39 [==============================] - 0s 2ms/step - loss: 5.6456 - accuracy: 0.5228 - val_loss: 2.4728 - val_accuracy: 0.4091\n",
            "Epoch 3/50\n",
            "39/39 [==============================] - 0s 2ms/step - loss: 1.9558 - accuracy: 0.4251 - val_loss: 1.4397 - val_accuracy: 0.4091\n",
            "Epoch 4/50\n",
            "39/39 [==============================] - 0s 2ms/step - loss: 1.4113 - accuracy: 0.5358 - val_loss: 1.1342 - val_accuracy: 0.5974\n",
            "Epoch 5/50\n",
            "39/39 [==============================] - 0s 2ms/step - loss: 1.2172 - accuracy: 0.5977 - val_loss: 0.9733 - val_accuracy: 0.6558\n",
            "Epoch 6/50\n",
            "39/39 [==============================] - 0s 2ms/step - loss: 1.0880 - accuracy: 0.6221 - val_loss: 0.9697 - val_accuracy: 0.6688\n",
            "Epoch 7/50\n",
            "39/39 [==============================] - 0s 2ms/step - loss: 1.0460 - accuracy: 0.6254 - val_loss: 0.9122 - val_accuracy: 0.6623\n",
            "Epoch 8/50\n",
            "39/39 [==============================] - 0s 2ms/step - loss: 0.9989 - accuracy: 0.6384 - val_loss: 0.9508 - val_accuracy: 0.6558\n",
            "Epoch 9/50\n",
            "39/39 [==============================] - 0s 3ms/step - loss: 1.0264 - accuracy: 0.6140 - val_loss: 0.8390 - val_accuracy: 0.6494\n",
            "Epoch 10/50\n",
            "39/39 [==============================] - 0s 2ms/step - loss: 0.9163 - accuracy: 0.6303 - val_loss: 0.8733 - val_accuracy: 0.6688\n",
            "Epoch 11/50\n",
            "39/39 [==============================] - 0s 2ms/step - loss: 0.9344 - accuracy: 0.6336 - val_loss: 0.8055 - val_accuracy: 0.6494\n",
            "Epoch 12/50\n",
            "39/39 [==============================] - 0s 2ms/step - loss: 0.8609 - accuracy: 0.6498 - val_loss: 0.8621 - val_accuracy: 0.6688\n",
            "Epoch 13/50\n",
            "39/39 [==============================] - 0s 2ms/step - loss: 0.8820 - accuracy: 0.6498 - val_loss: 0.7862 - val_accuracy: 0.6558\n",
            "Epoch 14/50\n",
            "39/39 [==============================] - 0s 2ms/step - loss: 0.8319 - accuracy: 0.6433 - val_loss: 0.8445 - val_accuracy: 0.6818\n",
            "Epoch 15/50\n",
            "39/39 [==============================] - 0s 2ms/step - loss: 0.8466 - accuracy: 0.6466 - val_loss: 0.8683 - val_accuracy: 0.6623\n",
            "Epoch 16/50\n",
            "39/39 [==============================] - 0s 2ms/step - loss: 0.8194 - accuracy: 0.6564 - val_loss: 0.7621 - val_accuracy: 0.6558\n",
            "Epoch 17/50\n",
            "39/39 [==============================] - 0s 2ms/step - loss: 0.8008 - accuracy: 0.6515 - val_loss: 0.7570 - val_accuracy: 0.6623\n",
            "Epoch 18/50\n",
            "39/39 [==============================] - 0s 2ms/step - loss: 0.7813 - accuracy: 0.6612 - val_loss: 0.7379 - val_accuracy: 0.6494\n",
            "Epoch 19/50\n",
            "39/39 [==============================] - 0s 2ms/step - loss: 0.7875 - accuracy: 0.6580 - val_loss: 0.7388 - val_accuracy: 0.6494\n",
            "Epoch 20/50\n",
            "39/39 [==============================] - 0s 2ms/step - loss: 0.7686 - accuracy: 0.6515 - val_loss: 0.7247 - val_accuracy: 0.6623\n",
            "Epoch 21/50\n",
            "39/39 [==============================] - 0s 2ms/step - loss: 0.7618 - accuracy: 0.6564 - val_loss: 0.7267 - val_accuracy: 0.6494\n",
            "Epoch 22/50\n",
            "39/39 [==============================] - 0s 2ms/step - loss: 0.7620 - accuracy: 0.6645 - val_loss: 0.7610 - val_accuracy: 0.6558\n",
            "Epoch 23/50\n",
            "39/39 [==============================] - 0s 2ms/step - loss: 0.7423 - accuracy: 0.6580 - val_loss: 0.7134 - val_accuracy: 0.6623\n",
            "Epoch 24/50\n",
            "39/39 [==============================] - 0s 2ms/step - loss: 0.7234 - accuracy: 0.6710 - val_loss: 0.7833 - val_accuracy: 0.6623\n",
            "Epoch 25/50\n",
            "39/39 [==============================] - 0s 2ms/step - loss: 0.7306 - accuracy: 0.6678 - val_loss: 0.7081 - val_accuracy: 0.6558\n",
            "Epoch 26/50\n",
            "39/39 [==============================] - 0s 2ms/step - loss: 0.7188 - accuracy: 0.6678 - val_loss: 0.7185 - val_accuracy: 0.6558\n",
            "Epoch 27/50\n",
            "39/39 [==============================] - 0s 2ms/step - loss: 0.7382 - accuracy: 0.6743 - val_loss: 0.7754 - val_accuracy: 0.6623\n",
            "Epoch 28/50\n",
            "39/39 [==============================] - 0s 2ms/step - loss: 0.7133 - accuracy: 0.6857 - val_loss: 0.6999 - val_accuracy: 0.6688\n",
            "Epoch 29/50\n",
            "39/39 [==============================] - 0s 2ms/step - loss: 0.7039 - accuracy: 0.6645 - val_loss: 0.7319 - val_accuracy: 0.6623\n",
            "Epoch 30/50\n",
            "39/39 [==============================] - 0s 2ms/step - loss: 0.6943 - accuracy: 0.6743 - val_loss: 0.6946 - val_accuracy: 0.6688\n",
            "Epoch 31/50\n",
            "39/39 [==============================] - 0s 2ms/step - loss: 0.6813 - accuracy: 0.6775 - val_loss: 0.6940 - val_accuracy: 0.6688\n",
            "Epoch 32/50\n",
            "39/39 [==============================] - 0s 2ms/step - loss: 0.6788 - accuracy: 0.6808 - val_loss: 0.7045 - val_accuracy: 0.6623\n",
            "Epoch 33/50\n",
            "39/39 [==============================] - 0s 2ms/step - loss: 0.6722 - accuracy: 0.6840 - val_loss: 0.7296 - val_accuracy: 0.6688\n",
            "Epoch 34/50\n",
            "39/39 [==============================] - 0s 2ms/step - loss: 0.6607 - accuracy: 0.6792 - val_loss: 0.7167 - val_accuracy: 0.6753\n",
            "Epoch 35/50\n",
            "39/39 [==============================] - 0s 2ms/step - loss: 0.6656 - accuracy: 0.6759 - val_loss: 0.7097 - val_accuracy: 0.6494\n",
            "Epoch 36/50\n",
            "39/39 [==============================] - 0s 2ms/step - loss: 0.6851 - accuracy: 0.6710 - val_loss: 0.7667 - val_accuracy: 0.6623\n",
            "Epoch 37/50\n",
            "39/39 [==============================] - 0s 2ms/step - loss: 0.6758 - accuracy: 0.6759 - val_loss: 0.6933 - val_accuracy: 0.6753\n",
            "Epoch 38/50\n",
            "39/39 [==============================] - 0s 2ms/step - loss: 0.6717 - accuracy: 0.6857 - val_loss: 0.7151 - val_accuracy: 0.6688\n",
            "Epoch 39/50\n",
            "39/39 [==============================] - 0s 2ms/step - loss: 0.6549 - accuracy: 0.6726 - val_loss: 0.7024 - val_accuracy: 0.6688\n",
            "Epoch 40/50\n",
            "39/39 [==============================] - 0s 2ms/step - loss: 0.6492 - accuracy: 0.6889 - val_loss: 0.7168 - val_accuracy: 0.6688\n",
            "Epoch 41/50\n",
            "39/39 [==============================] - 0s 2ms/step - loss: 0.6509 - accuracy: 0.6873 - val_loss: 0.7252 - val_accuracy: 0.6558\n",
            "Epoch 42/50\n",
            "39/39 [==============================] - 0s 2ms/step - loss: 0.6511 - accuracy: 0.6824 - val_loss: 0.7395 - val_accuracy: 0.6558\n",
            "Epoch 43/50\n",
            "39/39 [==============================] - 0s 2ms/step - loss: 0.6601 - accuracy: 0.6775 - val_loss: 0.6942 - val_accuracy: 0.6688\n",
            "Epoch 44/50\n",
            "39/39 [==============================] - 0s 3ms/step - loss: 0.6321 - accuracy: 0.6759 - val_loss: 0.7230 - val_accuracy: 0.6818\n",
            "Epoch 45/50\n",
            "39/39 [==============================] - 0s 2ms/step - loss: 0.6644 - accuracy: 0.6726 - val_loss: 0.7703 - val_accuracy: 0.6623\n",
            "Epoch 46/50\n",
            "39/39 [==============================] - 0s 2ms/step - loss: 0.6572 - accuracy: 0.6808 - val_loss: 0.7118 - val_accuracy: 0.6818\n",
            "Epoch 47/50\n",
            "39/39 [==============================] - 0s 2ms/step - loss: 0.6639 - accuracy: 0.6694 - val_loss: 0.7110 - val_accuracy: 0.6558\n",
            "Epoch 48/50\n",
            "39/39 [==============================] - 0s 2ms/step - loss: 0.6533 - accuracy: 0.6775 - val_loss: 0.7205 - val_accuracy: 0.6818\n",
            "Epoch 49/50\n",
            "39/39 [==============================] - 0s 2ms/step - loss: 0.6436 - accuracy: 0.6743 - val_loss: 0.7141 - val_accuracy: 0.6558\n",
            "Epoch 50/50\n",
            "39/39 [==============================] - 0s 2ms/step - loss: 0.6341 - accuracy: 0.6824 - val_loss: 0.6957 - val_accuracy: 0.6623\n"
          ]
        }
      ]
    },
    {
      "cell_type": "markdown",
      "source": [
        "### Show train set"
      ],
      "metadata": {
        "id": "q930b8mIUiIs"
      }
    },
    {
      "cell_type": "code",
      "source": [
        "plt.figure()\n",
        "plt.plot(history.history['loss'])\n",
        "plt.plot(history.history['accuracy'])\n",
        "plt.title('Loss & Accuracy')\n",
        "plt.ylabel('Values')\n",
        "plt.xlabel('Epoch')\n",
        "plt.legend(['Loss', 'Acc'])\n",
        "plt.show()"
      ],
      "metadata": {
        "colab": {
          "base_uri": "https://localhost:8080/",
          "height": 472
        },
        "id": "pVOjk15kUQGW",
        "outputId": "22d21639-a11f-438c-e6c8-7ba1ab4e8c91"
      },
      "execution_count": 43,
      "outputs": [
        {
          "output_type": "display_data",
          "data": {
            "text/plain": [
              "<Figure size 640x480 with 1 Axes>"
            ],
            "image/png": "[encoded data removed]"
          },
          "metadata": {}
        }
      ]
    },
    {
      "cell_type": "markdown",
      "source": [
        "### Show validating set"
      ],
      "metadata": {
        "id": "aC_bVR08Uyru"
      }
    },
    {
      "cell_type": "code",
      "source": [
        "plt.figure()\n",
        "plt.plot(history.history['val_loss'])\n",
        "plt.plot(history.history['val_accuracy'])\n",
        "plt.title('val Loss & val Accuracy')\n",
        "plt.ylabel('Values')\n",
        "plt.xlabel('Epoch')\n",
        "plt.legend(['val Loss', 'val Acc'])\n",
        "plt.show()"
      ],
      "metadata": {
        "colab": {
          "base_uri": "https://localhost:8080/",
          "height": 472
        },
        "id": "wYeW0PghUj6Q",
        "outputId": "d1e4fec6-11f3-4870-8abe-fe45be710223"
      },
      "execution_count": 44,
      "outputs": [
        {
          "output_type": "display_data",
          "data": {
            "text/plain": [
              "<Figure size 640x480 with 1 Axes>"
            ],
            "image/png": "[encoded data removed]"
          },
          "metadata": {}
        }
      ]
    },
    {
      "cell_type": "markdown",
      "source": [
        "### Show acc train and test"
      ],
      "metadata": {
        "id": "XJIy8C3iU4oo"
      }
    },
    {
      "cell_type": "code",
      "source": [
        "plt.figure()\n",
        "plt.plot(history.history['accuracy'])\n",
        "plt.plot(history.history['val_accuracy'])\n",
        "plt.title('Model accuracy')\n",
        "plt.ylabel('Accuracy')\n",
        "plt.xlabel('Epoch')\n",
        "plt.legend(['Train', 'Test'])\n",
        "plt.show()"
      ],
      "metadata": {
        "colab": {
          "base_uri": "https://localhost:8080/",
          "height": 472
        },
        "id": "MTRFU_XHU00S",
        "outputId": "dc796b96-52b9-445b-d3bd-088b4cea445f"
      },
      "execution_count": 45,
      "outputs": [
        {
          "output_type": "display_data",
          "data": {
            "text/plain": [
              "<Figure size 640x480 with 1 Axes>"
            ],
            "image/png": "[encoded data removed]"
          },
          "metadata": {}
        }
      ]
    },
    {
      "cell_type": "markdown",
      "source": [
        "### If have overfitting"
      ],
      "metadata": {
        "id": "psLJMA-yU9ou"
      }
    },
    {
      "cell_type": "markdown",
      "source": [
        "Simple way is dropout"
      ],
      "metadata": {
        "id": "JjB5UfzDVBE9"
      }
    },
    {
      "cell_type": "code",
      "source": [
        "def create_model_with_dropout(input_shape, output_shape):\n",
        "  input = Input(shape = input_shape)\n",
        "  x = Dense(units = 32, activation = \"relu\")(input)\n",
        "  x = Dropout(rate = 0.1, seed = 1)(x)\n",
        "  x = Dense(units = 64, activation = \"relu\")(x)\n",
        "  x = Dropout(rate = 0.1, seed = 2)(x)\n",
        "  x = Dense(units = 32, activation = \"relu\")(x)\n",
        "  x = Dropout(rate = 0.1, seed = 3)(x)\n",
        "  output = Dense(units = 1, activation = \"sigmoid\")(x)\n",
        "  return Model(input, output)"
      ],
      "metadata": {
        "id": "kti93EG5VAtc"
      },
      "execution_count": 46,
      "outputs": []
    },
    {
      "cell_type": "markdown",
      "source": [
        "### Create check point model"
      ],
      "metadata": {
        "id": "c_xpdn007xpd"
      }
    },
    {
      "cell_type": "code",
      "source": [
        "from tensorflow.keras.callbacks import ModelCheckpoint"
      ],
      "metadata": {
        "id": "e9HJYhPrU3oZ"
      },
      "execution_count": 47,
      "outputs": []
    },
    {
      "cell_type": "code",
      "source": [
        "callback = ModelCheckpoint(filepath = \"best_model.h5\", monitor = 'val_accuracy', mode = 'max',\n",
        "              save_best_only = True, verbose  = 1\n",
        ")"
      ],
      "metadata": {
        "id": "UNP0NB7B76Qc"
      },
      "execution_count": 48,
      "outputs": []
    },
    {
      "cell_type": "code",
      "source": [
        "model = create_model(input_shape, output_shape)\n",
        "model.compile(optimizer='adam', loss='binary_crossentropy',\n",
        "              metrics=['accuracy'])"
      ],
      "metadata": {
        "id": "iNQ1Mopw79bl"
      },
      "execution_count": 49,
      "outputs": []
    },
    {
      "cell_type": "code",
      "source": [
        "history = model.fit(X_train, y_train,\n",
        "                    epochs = 50,\n",
        "                    batch_size = 16,\n",
        "                    validation_data = (X_val, y_val),\n",
        "                    callbacks = callback)"
      ],
      "metadata": {
        "colab": {
          "base_uri": "https://localhost:8080/"
        },
        "id": "IpQ7GY1e8DAO",
        "outputId": "7e2a915f-4696-4767-852a-7959c9b8fbcc"
      },
      "execution_count": 51,
      "outputs": [
        {
          "output_type": "stream",
          "name": "stdout",
          "text": [
            "Epoch 1/50\n",
            "22/39 [===============>..............] - ETA: 0s - loss: 0.7183 - accuracy: 0.6250 \n",
            "Epoch 1: val_accuracy improved from -inf to 0.63636, saving model to best_model.h5\n",
            "39/39 [==============================] - 1s 6ms/step - loss: 0.7101 - accuracy: 0.6384 - val_loss: 0.6896 - val_accuracy: 0.6364\n",
            "Epoch 2/50\n",
            " 1/39 [..............................] - ETA: 0s - loss: 0.6952 - accuracy: 0.4375\n",
            "Epoch 2: val_accuracy improved from 0.63636 to 0.64286, saving model to best_model.h5\n",
            "39/39 [==============================] - 0s 3ms/step - loss: 0.6948 - accuracy: 0.6450 - val_loss: 0.6854 - val_accuracy: 0.6429\n",
            "Epoch 3/50\n",
            " 1/39 [..............................] - ETA: 0s - loss: 0.6829 - accuracy: 0.6875"
          ]
        },
        {
          "output_type": "stream",
          "name": "stderr",
          "text": [
            "/usr/local/lib/python3.10/dist-packages/keras/src/engine/training.py:3079: UserWarning: You are saving your model as an HDF5 file via `model.save()`. This file format is considered legacy. We recommend using instead the native Keras format, e.g. `model.save('my_model.keras')`.\n",
            "  saving_api.save_model(\n"
          ]
        },
        {
          "output_type": "stream",
          "name": "stdout",
          "text": [
            "\n",
            "Epoch 3: val_accuracy did not improve from 0.64286\n",
            "39/39 [==============================] - 0s 2ms/step - loss: 0.6873 - accuracy: 0.6450 - val_loss: 0.6819 - val_accuracy: 0.6429\n",
            "Epoch 4/50\n",
            " 1/39 [..............................] - ETA: 0s - loss: 0.6887 - accuracy: 0.5625\n",
            "Epoch 4: val_accuracy did not improve from 0.64286\n",
            "39/39 [==============================] - 0s 2ms/step - loss: 0.6835 - accuracy: 0.6498 - val_loss: 0.6788 - val_accuracy: 0.6429\n",
            "Epoch 5/50\n",
            "27/39 [===================>..........] - ETA: 0s - loss: 0.6808 - accuracy: 0.6435\n",
            "Epoch 5: val_accuracy did not improve from 0.64286\n",
            "39/39 [==============================] - 0s 4ms/step - loss: 0.6785 - accuracy: 0.6515 - val_loss: 0.6761 - val_accuracy: 0.6429\n",
            "Epoch 6/50\n",
            "32/39 [=======================>......] - ETA: 0s - loss: 0.6727 - accuracy: 0.6582\n",
            "Epoch 6: val_accuracy did not improve from 0.64286\n",
            "39/39 [==============================] - 0s 5ms/step - loss: 0.6735 - accuracy: 0.6515 - val_loss: 0.6732 - val_accuracy: 0.6429\n",
            "Epoch 7/50\n",
            "26/39 [===================>..........] - ETA: 0s - loss: 0.6759 - accuracy: 0.6322\n",
            "Epoch 7: val_accuracy did not improve from 0.64286\n",
            "39/39 [==============================] - 0s 3ms/step - loss: 0.6711 - accuracy: 0.6547 - val_loss: 0.6709 - val_accuracy: 0.6429\n",
            "Epoch 8/50\n",
            " 1/39 [..............................] - ETA: 0s - loss: 0.6509 - accuracy: 0.7500\n",
            "Epoch 8: val_accuracy did not improve from 0.64286\n",
            "39/39 [==============================] - 0s 2ms/step - loss: 0.6671 - accuracy: 0.6547 - val_loss: 0.6686 - val_accuracy: 0.6429\n",
            "Epoch 9/50\n",
            " 1/39 [..............................] - ETA: 0s - loss: 0.6724 - accuracy: 0.6250\n",
            "Epoch 9: val_accuracy did not improve from 0.64286\n",
            "39/39 [==============================] - 0s 2ms/step - loss: 0.6654 - accuracy: 0.6531 - val_loss: 0.6664 - val_accuracy: 0.6429\n",
            "Epoch 10/50\n",
            " 1/39 [..............................] - ETA: 0s - loss: 0.6265 - accuracy: 0.8125\n",
            "Epoch 10: val_accuracy did not improve from 0.64286\n",
            "39/39 [==============================] - 0s 2ms/step - loss: 0.6621 - accuracy: 0.6547 - val_loss: 0.6649 - val_accuracy: 0.6429\n",
            "Epoch 11/50\n",
            " 1/39 [..............................] - ETA: 0s - loss: 0.6695 - accuracy: 0.6250\n",
            "Epoch 11: val_accuracy did not improve from 0.64286\n",
            "39/39 [==============================] - 0s 2ms/step - loss: 0.6602 - accuracy: 0.6547 - val_loss: 0.6632 - val_accuracy: 0.6429\n",
            "Epoch 12/50\n",
            " 1/39 [..............................] - ETA: 0s - loss: 0.6162 - accuracy: 0.8125\n",
            "Epoch 12: val_accuracy did not improve from 0.64286\n",
            "39/39 [==============================] - 0s 2ms/step - loss: 0.6583 - accuracy: 0.6547 - val_loss: 0.6617 - val_accuracy: 0.6429\n",
            "Epoch 13/50\n",
            " 1/39 [..............................] - ETA: 0s - loss: 0.6299 - accuracy: 0.7500\n",
            "Epoch 13: val_accuracy did not improve from 0.64286\n",
            "39/39 [==============================] - 0s 2ms/step - loss: 0.6563 - accuracy: 0.6547 - val_loss: 0.6605 - val_accuracy: 0.6429\n",
            "Epoch 14/50\n",
            " 1/39 [..............................] - ETA: 0s - loss: 0.6661 - accuracy: 0.6250\n",
            "Epoch 14: val_accuracy did not improve from 0.64286\n",
            "39/39 [==============================] - 0s 2ms/step - loss: 0.6554 - accuracy: 0.6547 - val_loss: 0.6594 - val_accuracy: 0.6429\n",
            "Epoch 15/50\n",
            " 1/39 [..............................] - ETA: 0s - loss: 0.6346 - accuracy: 0.7500\n",
            "Epoch 15: val_accuracy did not improve from 0.64286\n",
            "39/39 [==============================] - 0s 2ms/step - loss: 0.6537 - accuracy: 0.6547 - val_loss: 0.6584 - val_accuracy: 0.6429\n",
            "Epoch 16/50\n",
            " 1/39 [..............................] - ETA: 0s - loss: 0.5989 - accuracy: 0.8125\n",
            "Epoch 16: val_accuracy did not improve from 0.64286\n",
            "39/39 [==============================] - 0s 2ms/step - loss: 0.6525 - accuracy: 0.6547 - val_loss: 0.6575 - val_accuracy: 0.6429\n",
            "Epoch 17/50\n",
            " 1/39 [..............................] - ETA: 0s - loss: 0.5952 - accuracy: 0.8125\n",
            "Epoch 17: val_accuracy did not improve from 0.64286\n",
            "39/39 [==============================] - 0s 2ms/step - loss: 0.6514 - accuracy: 0.6547 - val_loss: 0.6567 - val_accuracy: 0.6429\n",
            "Epoch 18/50\n",
            " 1/39 [..............................] - ETA: 0s - loss: 0.5919 - accuracy: 0.8125\n",
            "Epoch 18: val_accuracy did not improve from 0.64286\n",
            "39/39 [==============================] - 0s 2ms/step - loss: 0.6505 - accuracy: 0.6547 - val_loss: 0.6560 - val_accuracy: 0.6429\n",
            "Epoch 19/50\n",
            " 1/39 [..............................] - ETA: 0s - loss: 0.6631 - accuracy: 0.6250\n",
            "Epoch 19: val_accuracy did not improve from 0.64286\n",
            "39/39 [==============================] - 0s 2ms/step - loss: 0.6499 - accuracy: 0.6547 - val_loss: 0.6553 - val_accuracy: 0.6429\n",
            "Epoch 20/50\n",
            " 1/39 [..............................] - ETA: 0s - loss: 0.7142 - accuracy: 0.5000\n",
            "Epoch 20: val_accuracy did not improve from 0.64286\n",
            "39/39 [==============================] - 0s 2ms/step - loss: 0.6488 - accuracy: 0.6547 - val_loss: 0.6548 - val_accuracy: 0.6429\n",
            "Epoch 21/50\n",
            " 1/39 [..............................] - ETA: 0s - loss: 0.6093 - accuracy: 0.7500\n",
            "Epoch 21: val_accuracy did not improve from 0.64286\n",
            "39/39 [==============================] - 0s 2ms/step - loss: 0.6494 - accuracy: 0.6531 - val_loss: 0.6543 - val_accuracy: 0.6429\n",
            "Epoch 22/50\n",
            "36/39 [==========================>...] - ETA: 0s - loss: 0.6410 - accuracy: 0.6701\n",
            "Epoch 22: val_accuracy did not improve from 0.64286\n",
            "39/39 [==============================] - 0s 3ms/step - loss: 0.6480 - accuracy: 0.6547 - val_loss: 0.6539 - val_accuracy: 0.6429\n",
            "Epoch 23/50\n",
            "39/39 [==============================] - ETA: 0s - loss: 0.6473 - accuracy: 0.6547\n",
            "Epoch 23: val_accuracy did not improve from 0.64286\n",
            "39/39 [==============================] - 0s 2ms/step - loss: 0.6473 - accuracy: 0.6547 - val_loss: 0.6537 - val_accuracy: 0.6429\n",
            "Epoch 24/50\n",
            " 1/39 [..............................] - ETA: 0s - loss: 0.5756 - accuracy: 0.8125\n",
            "Epoch 24: val_accuracy did not improve from 0.64286\n",
            "39/39 [==============================] - 0s 2ms/step - loss: 0.6469 - accuracy: 0.6547 - val_loss: 0.6534 - val_accuracy: 0.6429\n",
            "Epoch 25/50\n",
            " 1/39 [..............................] - ETA: 0s - loss: 0.6911 - accuracy: 0.5625\n",
            "Epoch 25: val_accuracy did not improve from 0.64286\n",
            "39/39 [==============================] - 0s 2ms/step - loss: 0.6466 - accuracy: 0.6547 - val_loss: 0.6531 - val_accuracy: 0.6429\n",
            "Epoch 26/50\n",
            " 1/39 [..............................] - ETA: 0s - loss: 0.6317 - accuracy: 0.6875\n",
            "Epoch 26: val_accuracy did not improve from 0.64286\n",
            "39/39 [==============================] - 0s 2ms/step - loss: 0.6461 - accuracy: 0.6547 - val_loss: 0.6529 - val_accuracy: 0.6429\n",
            "Epoch 27/50\n",
            " 1/39 [..............................] - ETA: 0s - loss: 0.6921 - accuracy: 0.5625\n",
            "Epoch 27: val_accuracy did not improve from 0.64286\n",
            "39/39 [==============================] - 0s 2ms/step - loss: 0.6458 - accuracy: 0.6547 - val_loss: 0.6527 - val_accuracy: 0.6429\n",
            "Epoch 28/50\n",
            " 1/39 [..............................] - ETA: 0s - loss: 0.6306 - accuracy: 0.6875\n",
            "Epoch 28: val_accuracy did not improve from 0.64286\n",
            "39/39 [==============================] - 0s 2ms/step - loss: 0.6454 - accuracy: 0.6547 - val_loss: 0.6526 - val_accuracy: 0.6429\n",
            "Epoch 29/50\n",
            " 1/39 [..............................] - ETA: 0s - loss: 0.6616 - accuracy: 0.6250\n",
            "Epoch 29: val_accuracy did not improve from 0.64286\n",
            "39/39 [==============================] - 0s 2ms/step - loss: 0.6451 - accuracy: 0.6547 - val_loss: 0.6524 - val_accuracy: 0.6429\n",
            "Epoch 30/50\n",
            " 1/39 [..............................] - ETA: 0s - loss: 0.6937 - accuracy: 0.5625\n",
            "Epoch 30: val_accuracy did not improve from 0.64286\n",
            "39/39 [==============================] - 0s 2ms/step - loss: 0.6450 - accuracy: 0.6547 - val_loss: 0.6523 - val_accuracy: 0.6429\n",
            "Epoch 31/50\n",
            " 1/39 [..............................] - ETA: 0s - loss: 0.5199 - accuracy: 0.8750\n",
            "Epoch 31: val_accuracy did not improve from 0.64286\n",
            "39/39 [==============================] - 0s 2ms/step - loss: 0.6446 - accuracy: 0.6547 - val_loss: 0.6522 - val_accuracy: 0.6429\n",
            "Epoch 32/50\n",
            " 1/39 [..............................] - ETA: 0s - loss: 0.7276 - accuracy: 0.5000\n",
            "Epoch 32: val_accuracy did not improve from 0.64286\n",
            "39/39 [==============================] - 0s 2ms/step - loss: 0.6448 - accuracy: 0.6547 - val_loss: 0.6521 - val_accuracy: 0.6429\n",
            "Epoch 33/50\n",
            " 1/39 [..............................] - ETA: 0s - loss: 0.5947 - accuracy: 0.7500\n",
            "Epoch 33: val_accuracy did not improve from 0.64286\n",
            "39/39 [==============================] - 0s 2ms/step - loss: 0.6444 - accuracy: 0.6547 - val_loss: 0.6520 - val_accuracy: 0.6429\n",
            "Epoch 34/50\n",
            " 1/39 [..............................] - ETA: 0s - loss: 0.5936 - accuracy: 0.7500\n",
            "Epoch 34: val_accuracy did not improve from 0.64286\n",
            "39/39 [==============================] - 0s 2ms/step - loss: 0.6442 - accuracy: 0.6547 - val_loss: 0.6519 - val_accuracy: 0.6429\n",
            "Epoch 35/50\n",
            " 1/39 [..............................] - ETA: 0s - loss: 0.6117 - accuracy: 0.6875\n",
            "Epoch 35: val_accuracy did not improve from 0.64286\n",
            "39/39 [==============================] - 0s 2ms/step - loss: 0.6440 - accuracy: 0.6547 - val_loss: 0.6519 - val_accuracy: 0.6429\n",
            "Epoch 36/50\n",
            " 1/39 [..............................] - ETA: 0s - loss: 0.6618 - accuracy: 0.6250\n",
            "Epoch 36: val_accuracy did not improve from 0.64286\n",
            "39/39 [==============================] - 0s 2ms/step - loss: 0.6440 - accuracy: 0.6547 - val_loss: 0.6518 - val_accuracy: 0.6429\n",
            "Epoch 37/50\n",
            " 1/39 [..............................] - ETA: 0s - loss: 0.5566 - accuracy: 0.8125\n",
            "Epoch 37: val_accuracy did not improve from 0.64286\n",
            "39/39 [==============================] - 0s 2ms/step - loss: 0.6439 - accuracy: 0.6547 - val_loss: 0.6518 - val_accuracy: 0.6429\n",
            "Epoch 38/50\n",
            " 1/39 [..............................] - ETA: 0s - loss: 0.5909 - accuracy: 0.7500\n",
            "Epoch 38: val_accuracy did not improve from 0.64286\n",
            "39/39 [==============================] - 0s 2ms/step - loss: 0.6438 - accuracy: 0.6547 - val_loss: 0.6518 - val_accuracy: 0.6429\n",
            "Epoch 39/50\n",
            " 1/39 [..............................] - ETA: 0s - loss: 0.6261 - accuracy: 0.6875\n",
            "Epoch 39: val_accuracy did not improve from 0.64286\n",
            "39/39 [==============================] - 0s 2ms/step - loss: 0.6438 - accuracy: 0.6547 - val_loss: 0.6518 - val_accuracy: 0.6429\n",
            "Epoch 40/50\n",
            " 1/39 [..............................] - ETA: 0s - loss: 0.7291 - accuracy: 0.5000\n",
            "Epoch 40: val_accuracy did not improve from 0.64286\n",
            "39/39 [==============================] - 0s 2ms/step - loss: 0.6437 - accuracy: 0.6547 - val_loss: 0.6518 - val_accuracy: 0.6429\n",
            "Epoch 41/50\n",
            " 1/39 [..............................] - ETA: 0s - loss: 0.5534 - accuracy: 0.8125\n",
            "Epoch 41: val_accuracy did not improve from 0.64286\n",
            "39/39 [==============================] - 0s 2ms/step - loss: 0.6436 - accuracy: 0.6547 - val_loss: 0.6518 - val_accuracy: 0.6429\n",
            "Epoch 42/50\n",
            " 1/39 [..............................] - ETA: 0s - loss: 0.6622 - accuracy: 0.6250\n",
            "Epoch 42: val_accuracy did not improve from 0.64286\n",
            "39/39 [==============================] - 0s 2ms/step - loss: 0.6436 - accuracy: 0.6547 - val_loss: 0.6518 - val_accuracy: 0.6429\n",
            "Epoch 43/50\n",
            "39/39 [==============================] - ETA: 0s - loss: 0.6437 - accuracy: 0.6547\n",
            "Epoch 43: val_accuracy did not improve from 0.64286\n",
            "39/39 [==============================] - 0s 2ms/step - loss: 0.6437 - accuracy: 0.6547 - val_loss: 0.6518 - val_accuracy: 0.6429\n",
            "Epoch 44/50\n",
            " 1/39 [..............................] - ETA: 0s - loss: 0.6623 - accuracy: 0.6250\n",
            "Epoch 44: val_accuracy did not improve from 0.64286\n",
            "39/39 [==============================] - 0s 2ms/step - loss: 0.6434 - accuracy: 0.6547 - val_loss: 0.6518 - val_accuracy: 0.6429\n",
            "Epoch 45/50\n",
            " 1/39 [..............................] - ETA: 0s - loss: 0.5883 - accuracy: 0.7500\n",
            "Epoch 45: val_accuracy did not improve from 0.64286\n",
            "39/39 [==============================] - 0s 2ms/step - loss: 0.6435 - accuracy: 0.6547 - val_loss: 0.6518 - val_accuracy: 0.6429\n",
            "Epoch 46/50\n",
            " 1/39 [..............................] - ETA: 0s - loss: 0.6624 - accuracy: 0.6250\n",
            "Epoch 46: val_accuracy did not improve from 0.64286\n",
            "39/39 [==============================] - 0s 2ms/step - loss: 0.6433 - accuracy: 0.6547 - val_loss: 0.6518 - val_accuracy: 0.6429\n",
            "Epoch 47/50\n",
            " 1/39 [..............................] - ETA: 0s - loss: 0.5835 - accuracy: 0.7500\n",
            "Epoch 47: val_accuracy did not improve from 0.64286\n",
            "39/39 [==============================] - 0s 2ms/step - loss: 0.6434 - accuracy: 0.6547 - val_loss: 0.6518 - val_accuracy: 0.6429\n",
            "Epoch 48/50\n",
            " 1/39 [..............................] - ETA: 0s - loss: 0.5726 - accuracy: 0.7500\n",
            "Epoch 48: val_accuracy did not improve from 0.64286\n",
            "39/39 [==============================] - 0s 2ms/step - loss: 0.6434 - accuracy: 0.6547 - val_loss: 0.6518 - val_accuracy: 0.6429\n",
            "Epoch 49/50\n",
            " 1/39 [..............................] - ETA: 0s - loss: 0.6625 - accuracy: 0.6250\n",
            "Epoch 49: val_accuracy did not improve from 0.64286\n",
            "39/39 [==============================] - 0s 2ms/step - loss: 0.6434 - accuracy: 0.6547 - val_loss: 0.6518 - val_accuracy: 0.6429\n",
            "Epoch 50/50\n",
            " 1/39 [..............................] - ETA: 0s - loss: 0.6247 - accuracy: 0.6875\n",
            "Epoch 50: val_accuracy did not improve from 0.64286\n",
            "39/39 [==============================] - 0s 2ms/step - loss: 0.6432 - accuracy: 0.6547 - val_loss: 0.6518 - val_accuracy: 0.6429\n"
          ]
        }
      ]
    },
    {
      "cell_type": "code",
      "source": [
        "!ls"
      ],
      "metadata": {
        "colab": {
          "base_uri": "https://localhost:8080/"
        },
        "id": "cImRhblG8EOr",
        "outputId": "c96d06af-92d6-4b1f-c5e2-4c35f1ec70e6"
      },
      "execution_count": 52,
      "outputs": [
        {
          "output_type": "stream",
          "name": "stdout",
          "text": [
            "best_model.h5  dataset\tdownload_data.py  first_ml_project.ipynb  README.md  requirements.txt\n"
          ]
        }
      ]
    },
    {
      "cell_type": "markdown",
      "source": [
        "### Load best model"
      ],
      "metadata": {
        "id": "3XcX5KrI8JdU"
      }
    },
    {
      "cell_type": "code",
      "source": [
        "from keras.models import load_model"
      ],
      "metadata": {
        "id": "t-JmVGUA8IP3"
      },
      "execution_count": 53,
      "outputs": []
    },
    {
      "cell_type": "code",
      "source": [
        "bestmodel = load_model(\"best_model.h5\")"
      ],
      "metadata": {
        "id": "RLTmQUEH8Lf7"
      },
      "execution_count": 54,
      "outputs": []
    },
    {
      "cell_type": "code",
      "source": [
        "y_pred = bestmodel.predict(X_val)"
      ],
      "metadata": {
        "colab": {
          "base_uri": "https://localhost:8080/"
        },
        "id": "Wxfz0c8w8MzS",
        "outputId": "dbc4dd51-8bed-4b72-870b-5a267a294286"
      },
      "execution_count": 55,
      "outputs": [
        {
          "output_type": "stream",
          "name": "stdout",
          "text": [
            "5/5 [==============================] - 0s 2ms/step\n"
          ]
        }
      ]
    },
    {
      "cell_type": "code",
      "source": [
        "y_pred[:10]"
      ],
      "metadata": {
        "colab": {
          "base_uri": "https://localhost:8080/"
        },
        "id": "Gf7-5uqW8Ota",
        "outputId": "64b9ac45-525d-4cf4-9d3e-abe2f066e3bf"
      },
      "execution_count": 59,
      "outputs": [
        {
          "output_type": "execute_result",
          "data": {
            "text/plain": [
              "array([[0.4857668],\n",
              "       [0.4857668],\n",
              "       [0.4857668],\n",
              "       [0.4857668],\n",
              "       [0.4857668],\n",
              "       [0.4857668],\n",
              "       [0.4857668],\n",
              "       [0.4857668],\n",
              "       [0.4857668],\n",
              "       [0.4857668]], dtype=float32)"
            ]
          },
          "metadata": {},
          "execution_count": 59
        }
      ]
    },
    {
      "cell_type": "code",
      "source": [
        "y_pred = np.where(y_pred < 0.5, 0, 1)"
      ],
      "metadata": {
        "id": "OKFU3UPy8P6Z"
      },
      "execution_count": 60,
      "outputs": []
    },
    {
      "cell_type": "code",
      "source": [
        "y_pred[:5]"
      ],
      "metadata": {
        "colab": {
          "base_uri": "https://localhost:8080/"
        },
        "id": "ewXXBYdP8XVj",
        "outputId": "f92e140f-b8e8-493d-b657-88c876f55def"
      },
      "execution_count": 61,
      "outputs": [
        {
          "output_type": "execute_result",
          "data": {
            "text/plain": [
              "array([[0],\n",
              "       [0],\n",
              "       [0],\n",
              "       [0],\n",
              "       [0]])"
            ]
          },
          "metadata": {},
          "execution_count": 61
        }
      ]
    },
    {
      "cell_type": "code",
      "source": [],
      "metadata": {
        "id": "GezT908o8Yl8"
      },
      "execution_count": null,
      "outputs": []
    }
  ]
}